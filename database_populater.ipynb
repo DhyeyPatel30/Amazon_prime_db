{
 "cells": [
  {
   "cell_type": "markdown",
   "id": "89301657",
   "metadata": {},
   "source": [
    "import dependencies"
   ]
  },
  {
   "cell_type": "code",
   "execution_count": 5,
   "id": "7c10682b",
   "metadata": {},
   "outputs": [],
   "source": [
    "from faker import Faker\n",
    "import mysql.connector\n",
    "import random\n",
    "from datetime import datetime, timedelta"
   ]
  },
  {
   "cell_type": "markdown",
   "id": "31d6bc3e",
   "metadata": {},
   "source": [
    "intiat faker and connect to MySQL server"
   ]
  },
  {
   "cell_type": "code",
   "execution_count": 6,
   "id": "fb582405",
   "metadata": {},
   "outputs": [],
   "source": [
    "fake = Faker()\n",
    "\n",
    "# Connect to MySQL\n",
    "conn = mysql.connector.connect(\n",
    "    host=\"localhost\",\n",
    "    user=\"root\",\n",
    "    password=\"dhyey3074\",\n",
    "    database=\"amazon_prime_db\"\n",
    ")\n",
    "cursor = conn.cursor()"
   ]
  },
  {
   "cell_type": "markdown",
   "id": "d4905b2b",
   "metadata": {},
   "source": [
    "populate users table"
   ]
  },
  {
   "cell_type": "code",
   "execution_count": 7,
   "id": "dbe3fd0c",
   "metadata": {},
   "outputs": [],
   "source": [
    "users = []\n",
    "for _ in range(50):\n",
    "    name = fake.name()\n",
    "    email = fake.unique.email()\n",
    "    password_hash = fake.sha256()\n",
    "    signup_date = fake.date_between(start_date='-2y', end_date='today')\n",
    "    subscription_id = random.randint(1, 3)\n",
    "    users.append((name, email, password_hash, signup_date, subscription_id))\n",
    "\n",
    "cursor.executemany(\"\"\"\n",
    "    INSERT INTO Users (name, email, password_hash, signup_date, subscription_id)\n",
    "    VALUES (%s, %s, %s, %s, %s)\n",
    "\"\"\", users)"
   ]
  },
  {
   "cell_type": "markdown",
   "id": "cac9e76b",
   "metadata": {},
   "source": [
    "populate subscription table"
   ]
  },
  {
   "cell_type": "code",
   "execution_count": 9,
   "id": "2593415c",
   "metadata": {},
   "outputs": [],
   "source": [
    "subscriptions = [\n",
    "    (\"Basic\", 129.00, 1),\n",
    "    (\"Standard\", 299.00, 3),\n",
    "    (\"Premium\", 999.00, 12)\n",
    "]\n",
    "\n",
    "cursor.executemany(\"\"\"\n",
    "    INSERT INTO Subscriptions (plan_name, price, duration_months)\n",
    "    VALUES (%s, %s, %s)\n",
    "\"\"\", subscriptions)"
   ]
  },
  {
   "cell_type": "markdown",
   "id": "d88bcd47",
   "metadata": {},
   "source": [
    "populate genre table"
   ]
  },
  {
   "cell_type": "code",
   "execution_count": 10,
   "id": "b5f727b7",
   "metadata": {},
   "outputs": [],
   "source": [
    "genres = [\n",
    "    \"Action\", \"Drama\", \"Comedy\", \"Thriller\", \"Romance\",\n",
    "    \"Horror\", \"Adventure\", \"Documentary\", \"Sci-Fi\", \"Crime\"\n",
    "]\n",
    "cursor.executemany(\"INSERT INTO Genres (genre_name) VALUES (%s)\", [(g,) for g in genres])"
   ]
  },
  {
   "cell_type": "markdown",
   "id": "40e9a8df",
   "metadata": {},
   "source": [
    "populate movies table"
   ]
  },
  {
   "cell_type": "code",
   "execution_count": 11,
   "id": "bfa9b3d2",
   "metadata": {},
   "outputs": [],
   "source": [
    "movies = []\n",
    "for _ in range(100):\n",
    "    title = fake.catch_phrase()\n",
    "    release_year = random.randint(2000, 2025)\n",
    "    duration_min = random.randint(60, 180)\n",
    "    rating = random.choice([\"U\", \"U/A\", \"A\", \"PG-13\", \"R\"])\n",
    "    movies.append((title, release_year, duration_min, rating))\n",
    "\n",
    "cursor.executemany(\"\"\"\n",
    "    INSERT INTO Movies (title, release_year, duration_min, rating)\n",
    "    VALUES (%s, %s, %s, %s)\n",
    "\"\"\", movies)"
   ]
  },
  {
   "cell_type": "markdown",
   "id": "0f424dee",
   "metadata": {},
   "source": [
    "Link movies to genre"
   ]
  },
  {
   "cell_type": "code",
   "execution_count": 12,
   "id": "d5db22b4",
   "metadata": {},
   "outputs": [],
   "source": [
    "cursor.execute(\"SELECT movie_id FROM Movies\")\n",
    "movie_ids = [row[0] for row in cursor.fetchall()]\n",
    "genre_ids = list(range(1, len(genres) + 1))\n",
    "\n",
    "movie_genres = []\n",
    "for movie_id in movie_ids:\n",
    "    assigned_genres = random.sample(genre_ids, random.randint(1, 3))\n",
    "    for genre_id in assigned_genres:\n",
    "        movie_genres.append((movie_id, genre_id))\n",
    "\n",
    "cursor.executemany(\"\"\"\n",
    "    INSERT INTO MovieGenres (movie_id, genre_id)\n",
    "    VALUES (%s, %s)\n",
    "\"\"\", movie_genres)"
   ]
  },
  {
   "cell_type": "markdown",
   "id": "722f0039",
   "metadata": {},
   "source": [
    "insert into reviews table"
   ]
  },
  {
   "cell_type": "code",
   "execution_count": 13,
   "id": "eec13735",
   "metadata": {},
   "outputs": [],
   "source": [
    "reviews = []\n",
    "for _ in range(200):\n",
    "    user_id = random.randint(1, 50)\n",
    "    movie_id = random.choice(movie_ids)\n",
    "    rating = random.randint(1, 5)\n",
    "    review_text = fake.sentence(nb_words=random.randint(8, 15))\n",
    "    review_date = fake.date_between(start_date='-1y', end_date='today')\n",
    "    reviews.append((user_id, movie_id, rating, review_text, review_date))\n",
    "\n",
    "cursor.executemany(\"\"\"\n",
    "    INSERT INTO Reviews (user_id, movie_id, rating, review_text, review_date)\n",
    "    VALUES (%s, %s, %s, %s, %s)\n",
    "\"\"\", reviews)"
   ]
  },
  {
   "cell_type": "markdown",
   "id": "2ff3d77d",
   "metadata": {},
   "source": [
    "insert into devices table"
   ]
  },
  {
   "cell_type": "code",
   "execution_count": 14,
   "id": "92091a0e",
   "metadata": {},
   "outputs": [],
   "source": [
    "devices = []\n",
    "device_types = [\"Mobile\", \"Smart TV\", \"Laptop\", \"Tablet\"]\n",
    "for user_id in range(1, 51):\n",
    "    for _ in range(random.randint(1, 2)):\n",
    "        device_type = random.choice(device_types)\n",
    "        device_name = fake.word().capitalize() + \" \" + random.choice([\"Pro\", \"Plus\", \"Max\", \"HD\"])\n",
    "        last_used = fake.date_time_between(start_date='-2M', end_date='now')\n",
    "        devices.append((user_id, device_type, device_name, last_used))\n",
    "\n",
    "cursor.executemany(\"\"\"\n",
    "    INSERT INTO Devices (user_id, device_type, device_name, last_used)\n",
    "    VALUES (%s, %s, %s, %s)\n",
    "\"\"\", devices)"
   ]
  },
  {
   "cell_type": "markdown",
   "id": "160f0e5f",
   "metadata": {},
   "source": [
    "populate watch history table"
   ]
  },
  {
   "cell_type": "code",
   "execution_count": 15,
   "id": "b6a80b79",
   "metadata": {},
   "outputs": [],
   "source": [
    "for _ in range(500):\n",
    "    user_id = random.randint(1, 50)\n",
    "    movie_id = random.randint(1, 100)\n",
    "    watch_date = fake.date_time_between(start_date='-6M', end_date='now')\n",
    "    progress = random.randint(10, 100)\n",
    "    cursor.execute(\"\"\"\n",
    "        INSERT INTO WatchHistory (user_id, movie_id, watch_date, progress_percentage)\n",
    "        VALUES (%s, %s, %s, %s)\n",
    "    \"\"\", (user_id, movie_id, watch_date, progress))"
   ]
  },
  {
   "cell_type": "code",
   "execution_count": 16,
   "id": "91fd5e7d",
   "metadata": {},
   "outputs": [
    {
     "name": "stdout",
     "output_type": "stream",
     "text": [
      "✅ Dummy data for all tables inserted successfully!\n"
     ]
    }
   ],
   "source": [
    "conn.commit()\n",
    "cursor.close()\n",
    "conn.close()\n",
    "print(\"✅ Dummy data for all tables inserted successfully!\")"
   ]
  }
 ],
 "metadata": {
  "kernelspec": {
   "display_name": "Python 3",
   "language": "python",
   "name": "python3"
  },
  "language_info": {
   "codemirror_mode": {
    "name": "ipython",
    "version": 3
   },
   "file_extension": ".py",
   "mimetype": "text/x-python",
   "name": "python",
   "nbconvert_exporter": "python",
   "pygments_lexer": "ipython3",
   "version": "3.12.5"
  }
 },
 "nbformat": 4,
 "nbformat_minor": 5
}
